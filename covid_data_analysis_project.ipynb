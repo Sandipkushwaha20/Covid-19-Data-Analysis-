{
  "nbformat": 4,
  "nbformat_minor": 0,
  "metadata": {
    "colab": {
      "provenance": []
    },
    "kernelspec": {
      "name": "python3",
      "display_name": "Python 3"
    },
    "language_info": {
      "name": "python"
    }
  },
  "cells": [
    {
      "cell_type": "code",
      "source": [
        "from google.colab import drive\n",
        "drive.mount('/content/drive/', force_remount = True)"
      ],
      "metadata": {
        "colab": {
          "base_uri": "https://localhost:8080/"
        },
        "id": "znGmQ8asBV_D",
        "outputId": "5cc70927-af49-490c-d5af-143ce991c740"
      },
      "execution_count": 1,
      "outputs": [
        {
          "output_type": "stream",
          "name": "stdout",
          "text": [
            "Mounted at /content/drive/\n"
          ]
        }
      ]
    },
    {
      "cell_type": "code",
      "source": [
        "import pandas as pd #for data manupulation\n",
        "import matplotlib.pyplot as plt\n",
        "import seaborn as sns\n",
        "import plotly.express as px\n",
        "from datetime import datetime"
      ],
      "metadata": {
        "id": "HCg812bvB5NS"
      },
      "execution_count": 4,
      "outputs": []
    },
    {
      "cell_type": "code",
      "source": [
        "covid_df = pd.read_csv('/content/drive/MyDrive/Colab_Notebooks/covid_19_india.csv') #df = data frame"
      ],
      "metadata": {
        "id": "AGcmUlyqH78F"
      },
      "execution_count": null,
      "outputs": []
    },
    {
      "cell_type": "code",
      "source": [
        "covid_df.head(10)"
      ],
      "metadata": {
        "id": "YUzGOr0yIRD2"
      },
      "execution_count": null,
      "outputs": []
    },
    {
      "cell_type": "code",
      "source": [
        "covid_df.info()"
      ],
      "metadata": {
        "id": "5NldO5FsIUGn"
      },
      "execution_count": null,
      "outputs": []
    },
    {
      "cell_type": "code",
      "source": [
        "vaccine_df = pd.read_csv('/content/drive/MyDrive/Colab_Notebooks/covid_vaccine_statewise.csv')"
      ],
      "metadata": {
        "id": "5-_J7DAMI2KB"
      },
      "execution_count": 6,
      "outputs": []
    },
    {
      "cell_type": "code",
      "source": [
        "covid_df.drop([\"Sno\", \"Time\", \"ConfirmedIndianNational\", \"ConfirmedForeignNational\"], inplace = True, axis = 1)"
      ],
      "metadata": {
        "id": "-3AFNmxzJLDd"
      },
      "execution_count": null,
      "outputs": []
    },
    {
      "cell_type": "code",
      "source": [
        "covid_df.head()"
      ],
      "metadata": {
        "id": "Y347nX-8KFvA"
      },
      "execution_count": null,
      "outputs": []
    },
    {
      "cell_type": "code",
      "source": [
        "covid_df.head()"
      ],
      "metadata": {
        "id": "oPC9QmmLK7ZK"
      },
      "execution_count": null,
      "outputs": []
    },
    {
      "cell_type": "code",
      "source": [
        "covid_df['Date'] = pd.to_datetime(covid_df['Date'], format = '%Y-%m-%d')"
      ],
      "metadata": {
        "id": "mgBbcjg1f6M0"
      },
      "execution_count": 7,
      "outputs": []
    },
    {
      "cell_type": "code",
      "source": [
        "# total no of active cases = confirmed - cured - deaths\n",
        "covid_df['Active_Cases'] = covid_df['Confirmed'] - (covid_df['Cured'] + covid_df['Deaths'])"
      ],
      "metadata": {
        "id": "2n8WTB2lLBG_"
      },
      "execution_count": 8,
      "outputs": []
    },
    {
      "cell_type": "code",
      "source": [
        "#pivot table using pandas\n",
        "\n",
        "statewise = pd.pivot_table(covid_df, values = [\"Confirmed\", \"Deaths\", \"Cured\"],\n",
        "                           index = \"State/UnionTerritory\", aggfunc = max)\n",
        "statewise"
      ],
      "metadata": {
        "id": "uBBJIXERLtGC"
      },
      "execution_count": null,
      "outputs": []
    },
    {
      "cell_type": "code",
      "source": [
        "statewise[\"Recovery Rate\"] = statewise[\"Cured\"]*100/statewise[\"Confirmed\"]"
      ],
      "metadata": {
        "id": "COvca2G8m5vI"
      },
      "execution_count": null,
      "outputs": []
    },
    {
      "cell_type": "code",
      "source": [
        "statewise[\"Mortality Rate\"] = statewise[\"Deaths\"]*100/statewise[\"Confirmed\"]"
      ],
      "metadata": {
        "id": "aC2VSehlokh8"
      },
      "execution_count": null,
      "outputs": []
    },
    {
      "cell_type": "code",
      "source": [
        "statewise = statewise.sort_values(by = 'Confirmed', ascending = False)\n",
        "statewise.head()"
      ],
      "metadata": {
        "id": "RvnPzn6CoBMV"
      },
      "execution_count": null,
      "outputs": []
    },
    {
      "cell_type": "code",
      "source": [
        "statewise.style.background_gradient(cmap = 'cubehelix') #cmap = color map"
      ],
      "metadata": {
        "id": "_8PSbhLxox2q"
      },
      "execution_count": null,
      "outputs": []
    },
    {
      "cell_type": "code",
      "source": [
        "# top 10 active cases states\n",
        "top_10_active_cases = covid_df.groupby(by = 'State/UnionTerritory').max()[['Active_Cases', 'Date']].sort_values(by = ['Active_Cases'], ascending = False).reset_index()\n",
        "top_10_active_cases"
      ],
      "metadata": {
        "id": "hEF3fxCRpOAu"
      },
      "execution_count": null,
      "outputs": []
    },
    {
      "cell_type": "code",
      "source": [
        "fig = plt.figure(figsize = (16,9))"
      ],
      "metadata": {
        "id": "LTLj4XvWsn2I"
      },
      "execution_count": null,
      "outputs": []
    },
    {
      "cell_type": "code",
      "source": [
        "plt.title('Top 10 states with most active cases in India', size = 25)"
      ],
      "metadata": {
        "id": "Nmvwtv8BE5e7"
      },
      "execution_count": null,
      "outputs": []
    },
    {
      "cell_type": "code",
      "source": [
        "ax = sns.barplot(data = top_10_active_cases.iloc[:10], y = \"Active_Cases\", x = \"State/UnionTerritory\", linewidth = 2, edgecolor = 'red')"
      ],
      "metadata": {
        "id": "_WXDuoYRFC4W"
      },
      "execution_count": null,
      "outputs": []
    },
    {
      "cell_type": "code",
      "source": [
        " # top 10 active cases states\n",
        "top_10_active_cases = covid_df.groupby(by = 'State/UnionTerritory').max()[['Active_Cases', 'Date']].sort_values(by = ['Active_Cases'], ascending = False).reset_index()\n",
        "fig = plt.figure(figsize = (16,9))\n",
        "plt.title('Top 10 states with most active cases in India', size = 25)\n",
        "ax = sns.barplot(data = top_10_active_cases.iloc[:10], y = \"Active_Cases\", x = \"State/UnionTerritory\", linewidth = 1, edgecolor = 'red')\n",
        "plt.xlabel(\"States\")\n",
        "plt.ylabel(\"Total Active Cases\")\n",
        "plt.show()"
      ],
      "metadata": {
        "id": "7Wop2oAtF2kR"
      },
      "execution_count": null,
      "outputs": []
    },
    {
      "cell_type": "code",
      "source": [
        "# top states with highest deaths\n",
        "top_10_deaths = covid_df.groupby(by = \"State/UnionTerritory\").max()[['Deaths', 'Date']].sort_values(by = 'Deaths', ascending = False).reset_index()\n",
        "\n",
        "fig = plt.figure(figsize = (18,5))\n",
        "\n",
        "plt.title('Top 10 states with most deaths', size = 25)\n",
        "\n",
        "ax = sns.barplot(data = top_10_deaths.iloc[:10], y = \"Deaths\", x = 'State/UnionTerritory', linewidth = 2, edgecolor = 'black')\n",
        "\n",
        "plt.xlabel(\"States\")\n",
        "\n",
        "plt.ylabel(\"Total Death Cases\")\n",
        "\n",
        "plt.show()\n"
      ],
      "metadata": {
        "id": "wbgA191CGuzz"
      },
      "execution_count": null,
      "outputs": []
    },
    {
      "cell_type": "code",
      "source": [
        "vaccine_df.head()"
      ],
      "metadata": {
        "id": "beQWUmhMKPhO"
      },
      "execution_count": null,
      "outputs": []
    },
    {
      "cell_type": "code",
      "source": [
        "vaccine_df.rename(columns = {'Updated On' : 'Vaccine_Date'}, inplace = True)\n",
        "vaccine_df.head(10)"
      ],
      "metadata": {
        "id": "_QiBTvHdOql8"
      },
      "execution_count": null,
      "outputs": []
    },
    {
      "cell_type": "code",
      "source": [
        "vaccine_df.info()"
      ],
      "metadata": {
        "id": "bNJ9yUzwPM3N"
      },
      "execution_count": null,
      "outputs": []
    },
    {
      "cell_type": "code",
      "source": [
        "vaccine_df.isnull().sum()"
      ],
      "metadata": {
        "id": "axsMPGkGPYFn"
      },
      "execution_count": null,
      "outputs": []
    },
    {
      "cell_type": "code",
      "source": [
        "vaccination = vaccine_df.drop(columns = ['Sputnik V (Doses Administered)', 'AEFI', '18-44 Years (Doses Administered)', '45-60 Years (Doses Administered)', '60+ Years (Doses Administered)'], axis = 1)"
      ],
      "metadata": {
        "id": "NtBcDs0dP5_y"
      },
      "execution_count": 18,
      "outputs": []
    },
    {
      "cell_type": "code",
      "source": [
        "vaccination.head()"
      ],
      "metadata": {
        "id": "qkr9zLE0PmhM"
      },
      "execution_count": null,
      "outputs": []
    },
    {
      "cell_type": "code",
      "source": [
        "# male vs female vaccination\n",
        "male = vaccination[\"Male(Individuals Vaccinated)\"].sum()\n",
        "female = vaccination[\"Female(Individuals Vaccinated)\"].sum()\n",
        "px.pie(names = [\"Male\", 'Female'], values = [male, female], title = \"Male and Female Vaccination\")"
      ],
      "metadata": {
        "id": "L6sdRfGERqRQ"
      },
      "execution_count": null,
      "outputs": []
    },
    {
      "cell_type": "code",
      "source": [
        "# remove rows where state = India\n",
        "vaccine = vaccine_df[vaccine_df.State!= \"India\"]\n",
        "vaccine"
      ],
      "metadata": {
        "id": "IOLcCfjvQdcB"
      },
      "execution_count": null,
      "outputs": []
    },
    {
      "cell_type": "code",
      "source": [
        "vaccine.rename(columns = {\"Total Individuals Vaccinated\" : \"Total\"}, inplace = True)\n",
        "vaccine.head()"
      ],
      "metadata": {
        "id": "0A4M7hGRQrSk"
      },
      "execution_count": null,
      "outputs": []
    },
    {
      "cell_type": "code",
      "source": [
        "# states with most number of vaccinated individual\n",
        "\n",
        "max_vac = vaccine.groupby(\"State\")['Total'].sum().to_frame('Total')\n",
        "max_vac = max_vac.sort_values(\"Total\", ascending = False)[:5]\n",
        "max_vac"
      ],
      "metadata": {
        "id": "xstnQyBWRGbm"
      },
      "execution_count": null,
      "outputs": []
    },
    {
      "cell_type": "code",
      "source": [
        "fig = plt.figure(figsize = (10, 5))\n",
        "plt.title('Top 5 Vaccinated States in India', size = 20)\n",
        "x = sns.barplot(data = max_vac.iloc[:10], y = max_vac.Total, x = max_vac.index, linewidth = 2, edgecolor = 'black')\n",
        "plt.xlabel(\"Staes\")\n",
        "plt.ylabel(\"Vaccination\")\n",
        "plt.show()"
      ],
      "metadata": {
        "id": "M6thdQknRtSL"
      },
      "execution_count": null,
      "outputs": []
    },
    {
      "cell_type": "code",
      "source": [
        "#least vaccinated states\n",
        "min_vac = vaccine.groupby(\"State\")['Total'].sum().to_frame('Total')\n",
        "min_vac = min_vac.sort_values(\"Total\", ascending = True)[:5]\n",
        "min_vac"
      ],
      "metadata": {
        "id": "FL08998-Szs8"
      },
      "execution_count": null,
      "outputs": []
    },
    {
      "cell_type": "code",
      "source": [
        "fig = plt.figure(figsize = (15, 5))\n",
        "plt.title('Least 5 Vaccinated States in India', size = 20)\n",
        "x = sns.barplot(data = min_vac.iloc[:10], y = min_vac.Total, x = min_vac.index, linewidth = 2, edgecolor = 'black')\n",
        "plt.xlabel(\"Staes\")\n",
        "plt.ylabel(\"Vaccination\")\n",
        "plt.show()"
      ],
      "metadata": {
        "id": "DSlyd9kgTfD0"
      },
      "execution_count": null,
      "outputs": []
    }
  ]
}